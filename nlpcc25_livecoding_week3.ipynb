{
  "nbformat": 4,
  "nbformat_minor": 0,
  "metadata": {
    "colab": {
      "provenance": [],
      "authorship_tag": "ABX9TyOP/p2xljC78/2MmEjWazMR",
      "include_colab_link": true
    },
    "kernelspec": {
      "name": "python3",
      "display_name": "Python 3"
    },
    "language_info": {
      "name": "python"
    }
  },
  "cells": [
    {
      "cell_type": "markdown",
      "metadata": {
        "id": "view-in-github",
        "colab_type": "text"
      },
      "source": [
        "<a href=\"https://colab.research.google.com/github/natanaelwgm/2025w-PromedUI-NLPCC-Ganjil20242025/blob/main/nlpcc25_livecoding_week3.ipynb\" target=\"_parent\"><img src=\"https://colab.research.google.com/assets/colab-badge.svg\" alt=\"Open In Colab\"/></a>"
      ]
    },
    {
      "cell_type": "code",
      "source": [
        "# Step 1: Import necessary libraries\n",
        "import pandas as pd\n",
        "from sklearn.feature_extraction.text import CountVectorizer\n",
        "from sklearn.naive_bayes import MultinomialNB\n",
        "from sklearn.pipeline import make_pipeline\n",
        "from google.colab import files\n",
        "import io"
      ],
      "metadata": {
        "id": "3hwEVeFZwzdL"
      },
      "execution_count": 1,
      "outputs": []
    },
    {
      "cell_type": "code",
      "execution_count": null,
      "metadata": {
        "id": "uZpvLeX9u--n"
      },
      "outputs": [],
      "source": [
        "\n",
        "\n",
        "# Step 2: Upload your Excel file\n",
        "print(\"Please upload your Excel training file (e.g., 'training_data.xlsx')\")\n",
        "print(\"The file should have two columns: 'text' and 'label'\")\n",
        "uploaded = files.upload()\n",
        "\n",
        "# Check if a file was uploaded\n",
        "if not uploaded:\n",
        "    print(\"\\nNo file uploaded. Please run the cell again and upload a file.\")\n",
        "else:\n",
        "    # Get the filename of the uploaded file\n",
        "    filename = next(iter(uploaded))\n",
        "    print(f\"\\nUploaded file: '{filename}'\")\n",
        "\n",
        "    try:\n",
        "        # Step 3: Load the data from the Excel file\n",
        "        # We use io.BytesIO to read the uploaded file content directly\n",
        "        df = pd.read_excel(io.BytesIO(uploaded[filename]))\n",
        "        print(\"\\nFirst 5 rows of your data:\")\n",
        "        print(df.head())\n",
        "\n",
        "        # Ensure the required columns exist\n",
        "        if 'text' not in df.columns or 'label' not in df.columns:\n",
        "            raise ValueError(\"Excel file must contain 'text' and 'label' columns.\")\n",
        "\n",
        "        # Drop rows where 'text' or 'label' is NaN, just in case\n",
        "        df.dropna(subset=['text', 'label'], inplace=True)\n",
        "\n",
        "        # Convert 'text' column to string type to avoid issues with non-string data\n",
        "        df['text'] = df['text'].astype(str)\n",
        "\n",
        "\n",
        "        # Step 4: Prepare the data\n",
        "        X_train = df['text']  # The text data\n",
        "        y_train = df['label'] # The corresponding labels\n",
        "\n",
        "        print(f\"\\nFound {len(df)} training samples.\")\n",
        "        print(f\"Unique labels found: {y_train.unique()}\")\n",
        "\n",
        "        # Step 5: Create and train the Naive Bayes model\n",
        "        # We'll use a pipeline to combine CountVectorizer and MultinomialNB\n",
        "        # CountVectorizer settings:\n",
        "        # - lowercase=True: Converts all text to lowercase (as requested)\n",
        "        # - analyzer='word': Splits text into words (as requested)\n",
        "        model = make_pipeline(\n",
        "            CountVectorizer(lowercase=True, analyzer='word'),\n",
        "            MultinomialNB()\n",
        "        )\n",
        "\n",
        "        print(\"\\nTraining the Naive Bayes model...\")\n",
        "        model.fit(X_train, y_train)\n",
        "        print(\"Model training complete!\")\n",
        "\n",
        "        # Step 6: Prediction section\n",
        "        print(\"\\n--- Text Prediction ---\")\n",
        "        print(\"Type your text below and press Enter to get a sentiment prediction.\")\n",
        "        print(\"Type 'quit' or 'exit' to stop.\")\n",
        "\n",
        "        while True:\n",
        "            new_text = input(\"\\nEnter text to classify: \")\n",
        "            if new_text.lower() in ['quit', 'exit']:\n",
        "                print(\"Exiting prediction mode.\")\n",
        "                break\n",
        "            if not new_text.strip():\n",
        "                print(\"Please enter some text.\")\n",
        "                continue\n",
        "\n",
        "            # The model's predict method expects a list or iterable of texts\n",
        "            prediction = model.predict([new_text])\n",
        "            # model.predict_proba can give you probabilities for each class\n",
        "            probabilities = model.predict_proba([new_text])\n",
        "\n",
        "            print(f\"Predicted Label: {prediction[0]}\")\n",
        "\n",
        "            # Display probabilities for each class\n",
        "            print(\"Probabilities:\")\n",
        "            for i, class_label in enumerate(model.classes_):\n",
        "                print(f\"  {class_label}: {probabilities[0][i]:.4f}\")\n",
        "\n",
        "    except FileNotFoundError:\n",
        "        print(f\"Error: File '{filename}' not found after upload. This shouldn't happen with google.colab.files.upload().\")\n",
        "    except ValueError as ve:\n",
        "        print(f\"ValueError: {ve}\")\n",
        "    except Exception as e:\n",
        "        print(f\"An unexpected error occurred: {e}\")\n",
        "        print(\"Please ensure your Excel file is formatted correctly with 'text' and 'label' columns.\")"
      ]
    }
  ]
}